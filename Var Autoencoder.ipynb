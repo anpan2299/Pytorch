{
 "cells": [
  {
   "cell_type": "code",
   "execution_count": 21,
   "id": "516ab1d6",
   "metadata": {},
   "outputs": [],
   "source": [
    "import os\n",
    "import torch\n",
    "import torch.nn as nn\n",
    "import torch.nn.functional as F\n",
    "import torchvision.transforms as transforms\n",
    "from torchvision.utils import save_image\n",
    "import torchvision.datasets as datasets\n",
    "import matplotlib.pyplot as plt"
   ]
  },
  {
   "cell_type": "code",
   "execution_count": 22,
   "id": "676fb54f",
   "metadata": {},
   "outputs": [
    {
     "name": "stdout",
     "output_type": "stream",
     "text": [
      "Downloading http://yann.lecun.com/exdb/mnist/train-images-idx3-ubyte.gz\n",
      "Downloading http://yann.lecun.com/exdb/mnist/train-images-idx3-ubyte.gz to .././data\\MNIST\\raw\\train-images-idx3-ubyte.gz\n"
     ]
    },
    {
     "data": {
      "application/vnd.jupyter.widget-view+json": {
       "model_id": "e5110c11928d44a292c667a0d812ec25",
       "version_major": 2,
       "version_minor": 0
      },
      "text/plain": [
       "  0%|          | 0/9912422 [00:00<?, ?it/s]"
      ]
     },
     "metadata": {},
     "output_type": "display_data"
    },
    {
     "name": "stdout",
     "output_type": "stream",
     "text": [
      "Extracting .././data\\MNIST\\raw\\train-images-idx3-ubyte.gz to .././data\\MNIST\\raw\n",
      "\n",
      "Downloading http://yann.lecun.com/exdb/mnist/train-labels-idx1-ubyte.gz\n",
      "Downloading http://yann.lecun.com/exdb/mnist/train-labels-idx1-ubyte.gz to .././data\\MNIST\\raw\\train-labels-idx1-ubyte.gz\n"
     ]
    },
    {
     "data": {
      "application/vnd.jupyter.widget-view+json": {
       "model_id": "b9a0727357ec44c1bdcb81ee3525325d",
       "version_major": 2,
       "version_minor": 0
      },
      "text/plain": [
       "  0%|          | 0/28881 [00:00<?, ?it/s]"
      ]
     },
     "metadata": {},
     "output_type": "display_data"
    },
    {
     "name": "stdout",
     "output_type": "stream",
     "text": [
      "Extracting .././data\\MNIST\\raw\\train-labels-idx1-ubyte.gz to .././data\\MNIST\\raw\n",
      "\n",
      "Downloading http://yann.lecun.com/exdb/mnist/t10k-images-idx3-ubyte.gz\n",
      "Downloading http://yann.lecun.com/exdb/mnist/t10k-images-idx3-ubyte.gz to .././data\\MNIST\\raw\\t10k-images-idx3-ubyte.gz\n"
     ]
    },
    {
     "data": {
      "application/vnd.jupyter.widget-view+json": {
       "model_id": "9772164552dc4d1096b0ffbbbe6ba292",
       "version_major": 2,
       "version_minor": 0
      },
      "text/plain": [
       "  0%|          | 0/1648877 [00:00<?, ?it/s]"
      ]
     },
     "metadata": {},
     "output_type": "display_data"
    },
    {
     "name": "stdout",
     "output_type": "stream",
     "text": [
      "Extracting .././data\\MNIST\\raw\\t10k-images-idx3-ubyte.gz to .././data\\MNIST\\raw\n",
      "\n",
      "Downloading http://yann.lecun.com/exdb/mnist/t10k-labels-idx1-ubyte.gz\n",
      "Downloading http://yann.lecun.com/exdb/mnist/t10k-labels-idx1-ubyte.gz to .././data\\MNIST\\raw\\t10k-labels-idx1-ubyte.gz\n"
     ]
    },
    {
     "data": {
      "application/vnd.jupyter.widget-view+json": {
       "model_id": "9d5a1809cc4f4e9a8e736a506b319dd2",
       "version_major": 2,
       "version_minor": 0
      },
      "text/plain": [
       "  0%|          | 0/4542 [00:00<?, ?it/s]"
      ]
     },
     "metadata": {},
     "output_type": "display_data"
    },
    {
     "name": "stdout",
     "output_type": "stream",
     "text": [
      "Extracting .././data\\MNIST\\raw\\t10k-labels-idx1-ubyte.gz to .././data\\MNIST\\raw\n",
      "\n"
     ]
    }
   ],
   "source": [
    "mean_grey = 0.1307\n",
    "stdd_gray = 0.3081\n",
    "image_dim = 784\n",
    "hidden_dim = 400\n",
    "latent_dim= 20\n",
    "#Vae approximates a distribution to a normal, learning the mean and deviation\n",
    "#transforms = transforms.Compose([transforms.ToTensor(),transforms.Normalize((mean_grey),(stdd_gray))])\n",
    "transforms = transforms.Compose([transforms.ToTensor()])\n",
    "                                 \n",
    "train_dataset = datasets.MNIST(root='.././data',\n",
    "                           train=True,\n",
    "                           transform=transforms,\n",
    "                           download=True)\n",
    "test_dataset = datasets.MNIST(root='.././data',\n",
    "                           train=False,\n",
    "                           transform=transforms)\n",
    "\n",
    "batch_size = 128\n",
    "epochs = 10\n",
    "\n",
    "train_loader = torch.utils.data.DataLoader(dataset=train_dataset,\n",
    "                                          batch_size=batch_size,\n",
    "                                          shuffle=True)\n",
    "\n",
    "test_loader = torch.utils.data.DataLoader(dataset=test_dataset,\n",
    "                                          batch_size=batch_size,\n",
    "                                          shuffle=False)"
   ]
  },
  {
   "cell_type": "code",
   "execution_count": 23,
   "id": "b4e505d1",
   "metadata": {},
   "outputs": [],
   "source": [
    "sample_dir ='results'\n",
    "if not os.path.exists(sample_dir):\n",
    "    os.makedirs(sample_dir)"
   ]
  },
  {
   "cell_type": "code",
   "execution_count": 30,
   "id": "4b099df3",
   "metadata": {},
   "outputs": [],
   "source": [
    "class VAE(nn.Module):\n",
    "    def __init__(self):\n",
    "        super(VAE, self).__init__()\n",
    "        #encoder\n",
    "        self.fc1 = nn.Linear(image_dim, hidden_dim)\n",
    "        self.fc2_mean = nn.Linear(hidden_dim, latent_dim)\n",
    "        self.fc2_stdd = nn.Linear(hidden_dim, latent_dim)\n",
    "        #decoder\n",
    "        self.fc3 = nn.Linear(latent_dim, hidden_dim)\n",
    "        self.fc4 = nn.Linear(hidden_dim, image_dim)\n",
    "    \n",
    "    def encode(self, x):\n",
    "        h= F.relu(self.fc1(x))\n",
    "        mu= self.fc2_mean(h)\n",
    "        log_var = self.fc2_stdd(h)\n",
    "        return mu, log_var\n",
    "    \n",
    "    def reparametize(self, mu, log_var):\n",
    "        std = torch.exp(log_var/2)\n",
    "        eps = torch.randn_like(std)#sampling from a normal deviation\n",
    "        return mu + eps * std\n",
    "    def decode(self, x):\n",
    "        h = F.relu(self.fc3(x))\n",
    "        out = torch.sigmoid(self.fc4(h))\n",
    "        return out\n",
    "    def forward(self,x):\n",
    "        # x: (batch_size, 1, 28,28) --> (batch_size, 784)\n",
    "        mu, log_var = self.encode(x.view(-1,image_dim))\n",
    "        z =  self.reparametize(mu, log_var)\n",
    "        out = self.decode(z)\n",
    "        return out, mu, log_var\n",
    "        "
   ]
  },
  {
   "cell_type": "code",
   "execution_count": 40,
   "id": "6d9062ce",
   "metadata": {},
   "outputs": [],
   "source": [
    "device = torch.device(\"cuda\" if torch.cuda.is_available() else \"cpu\")\n",
    "\n",
    "model = VAE().to(device)\n",
    "optimizer = torch.optim.Adam(model.parameters(), lr=1e-3)"
   ]
  },
  {
   "cell_type": "code",
   "execution_count": 39,
   "id": "ebcc346b",
   "metadata": {},
   "outputs": [
    {
     "name": "stdout",
     "output_type": "stream",
     "text": [
      "Train Epoch 1 [Batch 0/469]\tLoss: 105.592\n",
      "Train Epoch 1 [Batch 100/469]\tLoss: 109.340\n",
      "Train Epoch 1 [Batch 200/469]\tLoss: 106.749\n",
      "Train Epoch 1 [Batch 300/469]\tLoss: 105.978\n",
      "Train Epoch 1 [Batch 400/469]\tLoss: 107.097\n",
      "=====> Epoch 1, Average Loss: 105.319\n",
      "=====> Average Test Loss: 104.924\n",
      "Train Epoch 2 [Batch 0/469]\tLoss: 105.179\n",
      "Train Epoch 2 [Batch 100/469]\tLoss: 103.909\n",
      "Train Epoch 2 [Batch 200/469]\tLoss: 105.593\n",
      "Train Epoch 2 [Batch 300/469]\tLoss: 103.288\n",
      "Train Epoch 2 [Batch 400/469]\tLoss: 103.619\n",
      "=====> Epoch 2, Average Loss: 105.082\n",
      "=====> Average Test Loss: 104.643\n",
      "Train Epoch 3 [Batch 0/469]\tLoss: 103.084\n",
      "Train Epoch 3 [Batch 100/469]\tLoss: 104.651\n",
      "Train Epoch 3 [Batch 200/469]\tLoss: 102.152\n",
      "Train Epoch 3 [Batch 300/469]\tLoss: 106.586\n",
      "Train Epoch 3 [Batch 400/469]\tLoss: 103.181\n",
      "=====> Epoch 3, Average Loss: 104.868\n",
      "=====> Average Test Loss: 104.431\n",
      "Train Epoch 4 [Batch 0/469]\tLoss: 108.259\n",
      "Train Epoch 4 [Batch 100/469]\tLoss: 108.294\n",
      "Train Epoch 4 [Batch 200/469]\tLoss: 105.861\n",
      "Train Epoch 4 [Batch 300/469]\tLoss: 105.452\n",
      "Train Epoch 4 [Batch 400/469]\tLoss: 103.767\n",
      "=====> Epoch 4, Average Loss: 104.661\n",
      "=====> Average Test Loss: 104.137\n",
      "Train Epoch 5 [Batch 0/469]\tLoss: 100.562\n",
      "Train Epoch 5 [Batch 100/469]\tLoss: 103.747\n",
      "Train Epoch 5 [Batch 200/469]\tLoss: 101.843\n",
      "Train Epoch 5 [Batch 300/469]\tLoss: 101.808\n",
      "Train Epoch 5 [Batch 400/469]\tLoss: 105.604\n",
      "=====> Epoch 5, Average Loss: 104.524\n",
      "=====> Average Test Loss: 104.265\n",
      "Train Epoch 6 [Batch 0/469]\tLoss: 100.891\n",
      "Train Epoch 6 [Batch 100/469]\tLoss: 104.705\n",
      "Train Epoch 6 [Batch 200/469]\tLoss: 104.728\n",
      "Train Epoch 6 [Batch 300/469]\tLoss: 106.153\n",
      "Train Epoch 6 [Batch 400/469]\tLoss: 104.254\n",
      "=====> Epoch 6, Average Loss: 104.336\n",
      "=====> Average Test Loss: 104.114\n",
      "Train Epoch 7 [Batch 0/469]\tLoss: 101.626\n",
      "Train Epoch 7 [Batch 100/469]\tLoss: 102.372\n",
      "Train Epoch 7 [Batch 200/469]\tLoss: 100.331\n",
      "Train Epoch 7 [Batch 300/469]\tLoss: 102.027\n",
      "Train Epoch 7 [Batch 400/469]\tLoss: 102.821\n",
      "=====> Epoch 7, Average Loss: 104.167\n",
      "=====> Average Test Loss: 104.075\n",
      "Train Epoch 8 [Batch 0/469]\tLoss: 105.541\n",
      "Train Epoch 8 [Batch 100/469]\tLoss: 102.577\n",
      "Train Epoch 8 [Batch 200/469]\tLoss: 101.314\n",
      "Train Epoch 8 [Batch 300/469]\tLoss: 104.342\n",
      "Train Epoch 8 [Batch 400/469]\tLoss: 100.832\n",
      "=====> Epoch 8, Average Loss: 104.046\n",
      "=====> Average Test Loss: 104.006\n",
      "Train Epoch 9 [Batch 0/469]\tLoss: 105.022\n",
      "Train Epoch 9 [Batch 100/469]\tLoss: 101.835\n",
      "Train Epoch 9 [Batch 200/469]\tLoss: 104.485\n",
      "Train Epoch 9 [Batch 300/469]\tLoss: 103.475\n",
      "Train Epoch 9 [Batch 400/469]\tLoss: 103.275\n",
      "=====> Epoch 9, Average Loss: 103.965\n",
      "=====> Average Test Loss: 103.966\n",
      "Train Epoch 10 [Batch 0/469]\tLoss: 101.389\n",
      "Train Epoch 10 [Batch 100/469]\tLoss: 105.527\n",
      "Train Epoch 10 [Batch 200/469]\tLoss: 103.972\n",
      "Train Epoch 10 [Batch 300/469]\tLoss: 103.820\n",
      "Train Epoch 10 [Batch 400/469]\tLoss: 101.985\n",
      "=====> Epoch 10, Average Loss: 103.825\n",
      "=====> Average Test Loss: 103.647\n"
     ]
    }
   ],
   "source": [
    "def loss_function(reconstructed_image, original_image, mu, log_var):\n",
    "    bce = F.binary_cross_entropy(reconstructed_image, original_image.view(-1,784), reduction = \"sum\")#reconstruction loss\n",
    "    kld = 0.5*torch.sum(log_var.exp() + mu.pow(2) -1 - log_var)#sum across dimensions | kl loss\n",
    "    return kld + bce\n",
    "\n",
    "def train(epoch):\n",
    "    model.train()\n",
    "    train_loss = 0\n",
    "    for i, (images, _) in enumerate(train_loader):\n",
    "        images = images.to(device)\n",
    "        reconstructed, mu, logvar = model(images)\n",
    "        loss = loss_function(reconstructed, images, mu, logvar)\n",
    "        optimizer.zero_grad()\n",
    "        loss.backward()\n",
    "        train_loss += loss.item()\n",
    "        optimizer.step()#update the weights\n",
    "        \n",
    "        if i % 100 == 0:\n",
    "            #print(loss.tolist())\n",
    "            #print(loss)\n",
    "            print(\"Train Epoch {} [Batch {}/{}]\\tLoss: {:.3f}\".format(epoch, i, len(train_loader), loss.item()/len(images)))\n",
    "            \n",
    "    print('=====> Epoch {}, Average Loss: {:.3f}'.format(epoch, train_loss/len(train_loader.dataset)))\n",
    "def test(epoch):\n",
    "    model.eval()\n",
    "    test_loss = 0\n",
    "    with torch.no_grad():\n",
    "        for batch_idx, (images, _) in enumerate(test_loader):\n",
    "            images = images.to(device)\n",
    "            reconstructed, mu, logvar = model(images)\n",
    "            test_loss += loss_function(reconstructed, images, mu, logvar).item()\n",
    "            if batch_idx == 0:\n",
    "                comparison = torch.cat([images[:5], reconstructed.view(batch_size, 1, 28, 28)[:5]])\n",
    "                save_image(comparison.cpu(), 'results/reconstruction_' + str(epoch) + '.png', nrow = 5)\n",
    "\n",
    "    print('=====> Average Test Loss: {:.3f}'.format(test_loss/len(test_loader.dataset)))\n",
    "    \n",
    "for epoch in range(1, epochs + 1):\n",
    "    train(epoch)\n",
    "    test(epoch)\n",
    "    with torch.no_grad():\n",
    "        # Get rid of the encoder and sample z from the gaussian ditribution and feed it to the decoder to generate samples\n",
    "        sample = torch.randn(64,20).to(device)\n",
    "        generated = model.decode(sample).cpu()\n",
    "        save_image(generated.view(64,1,28,28), 'results/sample_' + str(epoch) + '.png')\n"
   ]
  },
  {
   "cell_type": "code",
   "execution_count": null,
   "id": "c4a49d11",
   "metadata": {},
   "outputs": [],
   "source": []
  }
 ],
 "metadata": {
  "kernelspec": {
   "display_name": "Python 3 (ipykernel)",
   "language": "python",
   "name": "python3"
  },
  "language_info": {
   "codemirror_mode": {
    "name": "ipython",
    "version": 3
   },
   "file_extension": ".py",
   "mimetype": "text/x-python",
   "name": "python",
   "nbconvert_exporter": "python",
   "pygments_lexer": "ipython3",
   "version": "3.7.13"
  }
 },
 "nbformat": 4,
 "nbformat_minor": 5
}
