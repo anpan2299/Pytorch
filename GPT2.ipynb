{
 "cells": [
  {
   "cell_type": "code",
   "execution_count": 3,
   "id": "1b07c6d5",
   "metadata": {},
   "outputs": [],
   "source": [
    "import torch\n",
    "import torch.nn as nn\n",
    "import torch.nn.functional as F\n",
    "from transformers import GPT2Config, GPT2Tokenizer"
   ]
  },
  {
   "cell_type": "code",
   "execution_count": 2,
   "id": "c4d91c21",
   "metadata": {},
   "outputs": [
    {
     "data": {
      "text/plain": [
       "GPT2Config {\n",
       "  \"activation_function\": \"gelu_new\",\n",
       "  \"attn_pdrop\": 0.1,\n",
       "  \"bos_token_id\": 50256,\n",
       "  \"embd_pdrop\": 0.1,\n",
       "  \"eos_token_id\": 50256,\n",
       "  \"initializer_range\": 0.02,\n",
       "  \"layer_norm_epsilon\": 1e-05,\n",
       "  \"model_type\": \"gpt2\",\n",
       "  \"n_embd\": 768,\n",
       "  \"n_head\": 12,\n",
       "  \"n_inner\": null,\n",
       "  \"n_layer\": 12,\n",
       "  \"n_positions\": 1024,\n",
       "  \"reorder_and_upcast_attn\": false,\n",
       "  \"resid_pdrop\": 0.1,\n",
       "  \"scale_attn_by_inverse_layer_idx\": false,\n",
       "  \"scale_attn_weights\": true,\n",
       "  \"summary_activation\": null,\n",
       "  \"summary_first_dropout\": 0.1,\n",
       "  \"summary_proj_to_labels\": true,\n",
       "  \"summary_type\": \"cls_index\",\n",
       "  \"summary_use_proj\": true,\n",
       "  \"transformers_version\": \"4.30.2\",\n",
       "  \"use_cache\": true,\n",
       "  \"vocab_size\": 50257\n",
       "}"
      ]
     },
     "execution_count": 2,
     "metadata": {},
     "output_type": "execute_result"
    }
   ],
   "source": [
    "GPT2Config()"
   ]
  },
  {
   "cell_type": "code",
   "execution_count": null,
   "id": "63810c9d",
   "metadata": {},
   "outputs": [],
   "source": [
    "config = GPT2Config()"
   ]
  },
  {
   "cell_type": "code",
   "execution_count": 4,
   "id": "c8299f93",
   "metadata": {},
   "outputs": [],
   "source": [
    "class GPT2Attention(nn.Module):\n",
    "    def __init__(self,config):\n",
    "        super(GPT2Attention, self).__init__()\n",
    "        \n",
    "        max_positions = config.n_positions\n",
    "        self.mask = torch.tril(torch.ones(max_positions, max_positions), dtype = torch.uint8).unsqueeze(0).unsqueeze(0) #batch_size and heads\n",
    "        self.emb_dim = config.n_embd\n",
    "        self.num_heads = config.n_head\n",
    "        self.head_dim = self.emb_dim//self.num_heads\n",
    "        self.split_size = config.n_embd\n",
    "        self.c_attention = nn.Linear(self.emb_dim,3*self.emb_dim) #doesn't need to declare three times for q,v,k\n",
    "        self.c_proj = nn.Linear(self.emb_dim,self.emb_dim)\n",
    "        self.dropout = nn.Dropout(0.1)\n",
    "    def _attn(self,query, key, value):\n",
    "        # query, key, value : Batch_size, nheads,seq_len,d_heads\n",
    "        attn_weights = torch.matmul(query, key.transpose(-1,-2))\n",
    "        attn_weights = attn_weights/float(query.size(-1)**0.5)\n",
    "        \n",
    "        T = query.size(-2)\n",
    "        casual_mask = self.mask[:,:,:T,:T].bool()\n",
    "        attn_weights = torch.where(casual_mask, attn_weights, torch.tensor(1e-4))\n",
    "        \n",
    "        #attn_weights = F.softmax(attn_weights, dim = -1)\n",
    "        attn_weights = nn.Softmax(dim = -1)(attn_weights)\n",
    "        attn_weights = self.dropout(attn_weights)\n",
    "        attn_weights = torch.matmul(attn_weights, value)\n",
    "        return attn_weights\n",
    "    def forward(self, x):\n",
    "        #x: batch_size, seq_len, dimensionality     (B,T,c)\n",
    "        \n",
    "        B,T,C = x.size()\n",
    "        quey, key, value = self.c_attention(x).split(self.split_size, dim = -1)# B,T,3*C\n",
    "        query = query.view(B,T,self.num_heads, self.head_dim).transpose(1,2)\n",
    "        key = key.view(B,T,self.num_heads, self.head_dim).transpose(1,2)\n",
    "        value = value.view(B,T,self.num_heads, self.head_dim).transpose(1,2)\n",
    "        \n",
    "        att_output = self._attn(query, key, value) #batch_size,n_heads, seq_len, d_heads\n",
    "        att_output = att_output.transpose(1,2).view(B,T,C)\n",
    "        att_output = self.c_proj(att_output)\n",
    "        att_output = self.dropout(att_output)\n",
    "        return att_output"
   ]
  },
  {
   "cell_type": "code",
   "execution_count": 4,
   "id": "efb0f8fd",
   "metadata": {},
   "outputs": [],
   "source": [
    "class GPT2MLP(nn.Module):\n",
    "    def __init__(self,config):\n",
    "        super(GPT2MLP, self).__init__()\n",
    "        self.emb_dim = config.n_embd\n",
    "        self.mlp = nn.Sequential(nn.Linear(self.emb_dim, 4*self.emb_dim), nn.GELU(), nn.Linear(4*self.emb_dim, self.emb_dim),nn.dropout(0.1))\n",
    "    def forward(self,x):\n",
    "        return self.mlp(x)"
   ]
  },
  {
   "cell_type": "code",
   "execution_count": 6,
   "id": "dc01a08c",
   "metadata": {},
   "outputs": [],
   "source": [
    "class GPT2Block(nn.Module):\n",
    "    def __init__(self,config):\n",
    "        super(GPT2Block, self).__init__()\n",
    "        emb_dim = config.n_embd\n",
    "        self.layernorm1 = nn.LayerNorm(emb_dim)\n",
    "        self.layernorm2 = nn.LayerNorm(emb_dim)\n",
    "        self.attn = GPT2Attention(config)\n",
    "        self.mlp = GPT2MLP(config)\n",
    "    def forward(self, hidden_states):\n",
    "        residual = hidden_states\n",
    "        hidden_states = self.layernorm1(hidden_states)\n",
    "        attn_outputs = self.attn(hidden_states)\n",
    "        hidden_states = residual + attn_outputs\n",
    "        residual = hidden_states \n",
    "        hidden_states = self.mlp(hidden_states)\n",
    "        hidden_states = residual + hidden_states\n",
    "        return hidden_states"
   ]
  },
  {
   "cell_type": "code",
   "execution_count": 7,
   "id": "0446dca5",
   "metadata": {},
   "outputs": [],
   "source": [
    "class GPT2Model(nn.Module):\n",
    "    def __init__(self,config):\n",
    "        super(GPT2Model, self).__init__()\n",
    "        self.emb_dim = config.n_embd\n",
    "        self.vocab_size = config.vocab_size\n",
    "        self.wte = nn.Embedding(self.vocab_size, self.emb_dim)\n",
    "        self.wpe = nn.Embedding(config.n_positions, self.emb_dim)\n",
    "        self.dropout = nn.Dropout(0.1)\n",
    "        self.blocks = nn.ModuleList([GPT2Block(config) for _ in range(config.n_layer)])\n",
    "        self.layernormf = nn.LayerNorm(emb_dim)\n",
    "    def forward(self, input_ids=None, position_ids = None):\n",
    "        input_shapes = input_ids.size() #batch_size, max_seq_len\n",
    "        batch_size = input_ids.size(0)\n",
    "        device = input_ids.device\n",
    "        \n",
    "        position_ids = torch.arange(0,input_ids.size(1), dtype = torch.long, device = device)\n",
    "        position_ids = position_ids.unsqueeze(0)\n",
    "        input_embeds = self.wte(input_ids)\n",
    "        position_embeds = self.wpe(position_ids)\n",
    "        hidden_states = input_embeds + position_embeds\n",
    "        hidden_states = self.dropout(hidden_states)\n",
    "        \n",
    "        for block in self.blocks:\n",
    "            hidden_states = block(hidden_states)\n",
    "        hidden_states = self.layernormf(hidden_states)\n",
    "        \n",
    "        return hidden_states"
   ]
  },
  {
   "cell_type": "code",
   "execution_count": null,
   "id": "ada0963a",
   "metadata": {},
   "outputs": [],
   "source": [
    "class GPT2LMHead(nn.Module):\n",
    "    def __init__(self,config):\n",
    "        super(GPT2LMHead, self).__init__()\n",
    "        self.transformer = GPT2Model(config)\n",
    "        self.lm_head = nn.Linear(config.n_embd, config.vocab_size,bias = False)\n",
    "        self.xe = nn.CrossEntropyLoss(ignore_index = tokenizer.pad_token)\n",
    "    def forward(self,input_ids = None, position_ids = None, labels = None):\n",
    "        \n",
    "        hidden_states = self.transformer(input_ids)\n",
    "        lm_logits = self.lm_head(hidden_states) #batch_size, max_seq_len, vocab_size\n",
    "        \n",
    "        loss = None\n",
    "        if labels is not None:\n",
    "            shift_logits = lm_logits[:,-1, :]\n",
    "            shift_labels = labels[:,1:]\n",
    "            loss = self.xe(shift_logits.view(-1,shift_logits.size(-1)),shift_labels.view(-1))\n",
    "        return lm_logits, loss\n",
    "            "
   ]
  }
 ],
 "metadata": {
  "kernelspec": {
   "display_name": "Python 3 (ipykernel)",
   "language": "python",
   "name": "python3"
  },
  "language_info": {
   "codemirror_mode": {
    "name": "ipython",
    "version": 3
   },
   "file_extension": ".py",
   "mimetype": "text/x-python",
   "name": "python",
   "nbconvert_exporter": "python",
   "pygments_lexer": "ipython3",
   "version": "3.7.13"
  }
 },
 "nbformat": 4,
 "nbformat_minor": 5
}
