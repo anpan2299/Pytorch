{
 "cells": [
  {
   "cell_type": "code",
   "execution_count": 1,
   "id": "be5ec490",
   "metadata": {},
   "outputs": [],
   "source": [
    "import time\n",
    "from pathlib import Path\n",
    "\n",
    "import cv2\n",
    "import matplotlib.pyplot as plt\n",
    "import numpy as np\n",
    "from IPython.display import Markdown\n",
    "from openvino.runtime import Core"
   ]
  },
  {
   "cell_type": "code",
   "execution_count": 4,
   "id": "a8cb7449",
   "metadata": {},
   "outputs": [],
   "source": [
    "import tensorflow as tf\n",
    "from tensorflow.keras import utils\n",
    "\n",
    "import os\n",
    "import numpy as np\n",
    "\n",
    "def save_mod(model, mod_path):\n",
    "    print('Save to {}'.format(mod_path))\n",
    "    tf.saved_model.save(model, mod_path)\n",
    "\n",
    "\n",
    "def load_mod(model_file):\n",
    "    model = tf.keras.models.load_model(model_file)\n",
    "    print('Load from {}'.format(model_file))\n",
    "    return model\n",
    "\n",
    "def save_frezon_pb(model, mod_path):\n",
    "    # Convert Keras model to ConcreteFunction\n",
    "    full_model = tf.function(lambda x: model(x))\n",
    "    concrete_function = full_model.get_concrete_function(\n",
    "        x=tf.TensorSpec(model.inputs[0].shape, model.inputs[0].dtype))\n",
    "\n",
    "    # Get frozen ConcreteFunction\n",
    "    frozen_model = convert_variables_to_constants_v2(concrete_function)\n",
    "\n",
    "    # Generate frozen pb\n",
    "    tf.io.write_graph(graph_or_graph_def=frozen_model.graph,\n",
    "                      logdir=\".\",\n",
    "                      name=mod_path,\n",
    "                      as_text=False)\n",
    "\n",
    "\n",
    "def load_pb(in_model):\n",
    "    detection_graph = tf.compat.v1.Graph()\n",
    "    with detection_graph.as_default():\n",
    "        od_graph_def = tf.compat.v1.GraphDef()\n",
    "        with tf.compat.v1.gfile.GFile(in_model, 'rb') as fid:\n",
    "            serialized_graph = fid.read()\n",
    "            od_graph_def.ParseFromString(serialized_graph)\n",
    "            tf.compat.v1.import_graph_def(od_graph_def, name='')\n",
    "\n",
    "    return detection_graph\n",
    "model = tf.saved_model.load(\"./ssd_mobilenet_v2_2\")"
   ]
  },
  {
   "cell_type": "code",
   "execution_count": 5,
   "id": "8d44b5aa",
   "metadata": {},
   "outputs": [
    {
     "name": "stdout",
     "output_type": "stream",
     "text": [
      "Save to ssd_mobilenet_v2_2_mod\n"
     ]
    },
    {
     "name": "stderr",
     "output_type": "stream",
     "text": [
      "WARNING:absl:Found untraced functions such as restored_function_body, restored_function_body, restored_function_body, restored_function_body, restored_function_body while saving (showing 5 of 50). These functions will not be directly callable after loading.\n"
     ]
    },
    {
     "name": "stdout",
     "output_type": "stream",
     "text": [
      "INFO:tensorflow:Assets written to: ssd_mobilenet_v2_2_mod\\assets\n"
     ]
    },
    {
     "name": "stderr",
     "output_type": "stream",
     "text": [
      "INFO:tensorflow:Assets written to: ssd_mobilenet_v2_2_mod\\assets\n"
     ]
    }
   ],
   "source": [
    "save_mod(model, \"ssd_mobilenet_v2_2_mod\")"
   ]
  },
  {
   "cell_type": "code",
   "execution_count": null,
   "id": "98816f95",
   "metadata": {},
   "outputs": [],
   "source": []
  }
 ],
 "metadata": {
  "kernelspec": {
   "display_name": "Python 3 (ipykernel)",
   "language": "python",
   "name": "python3"
  },
  "language_info": {
   "codemirror_mode": {
    "name": "ipython",
    "version": 3
   },
   "file_extension": ".py",
   "mimetype": "text/x-python",
   "name": "python",
   "nbconvert_exporter": "python",
   "pygments_lexer": "ipython3",
   "version": "3.7.13"
  }
 },
 "nbformat": 4,
 "nbformat_minor": 5
}
