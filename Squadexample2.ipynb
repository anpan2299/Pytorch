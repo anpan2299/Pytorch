{
 "cells": [
  {
   "cell_type": "code",
   "execution_count": 1,
   "id": "cc5f4ec5",
   "metadata": {},
   "outputs": [],
   "source": [
    "from official.nlp.bert.tokenization import FullTokenizer\n",
    "from official.nlp.bert.input_pipeline import create_squad_dataset\n",
    "from official.nlp.data.squad_lib import generate_tf_record_from_json_file\n",
    "#from official.nlp.bert.data.squad_lib import generate_tf_record_from_json_file\n",
    "from official.nlp.data.squad_lib import generate_tf_record_from_json_file\n",
    "from official.nlp import optimization\n",
    "from official.nlp.data.squad_lib import read_squad_examples\n",
    "from official.nlp.data.squad_lib import FeatureWriter\n",
    "from official.nlp.data.squad_lib import convert_examples_to_features\n",
    "from official.nlp.data.squad_lib import write_predictions "
   ]
  },
  {
   "cell_type": "code",
   "execution_count": 2,
   "id": "0b315a5e",
   "metadata": {},
   "outputs": [
    {
     "name": "stdout",
     "output_type": "stream",
     "text": [
      "Collecting tf-models-nightly==2.9.0.dev20220528\n",
      "  Downloading tf_models_nightly-2.9.0.dev20220528-py2.py3-none-any.whl (2.2 MB)\n",
      "     ---------------------------------------- 2.2/2.2 MB 3.3 MB/s eta 0:00:00\n",
      "Requirement already satisfied: sentencepiece in c:\\users\\realmeid\\anaconda3\\envs\\py37\\lib\\site-packages (from tf-models-nightly==2.9.0.dev20220528) (0.1.97)\n",
      "Collecting gin-config\n",
      "  Downloading gin_config-0.5.0-py3-none-any.whl (61 kB)\n",
      "     ---------------------------------------- 61.3/61.3 kB 3.2 MB/s eta 0:00:00\n",
      "Collecting oauth2client\n",
      "  Downloading oauth2client-4.1.3-py2.py3-none-any.whl (98 kB)\n",
      "     ---------------------------------------- 98.2/98.2 kB 5.9 MB/s eta 0:00:00\n",
      "Collecting tensorflow-model-optimization>=0.4.1\n",
      "  Downloading tensorflow_model_optimization-0.7.4-py2.py3-none-any.whl (240 kB)\n",
      "     -------------------------------------- 240.6/240.6 kB 4.9 MB/s eta 0:00:00\n",
      "Collecting immutabledict\n",
      "  Downloading immutabledict-2.2.4-py3-none-any.whl (4.1 kB)\n",
      "Requirement already satisfied: psutil>=5.4.3 in c:\\users\\realmeid\\anaconda3\\envs\\py37\\lib\\site-packages (from tf-models-nightly==2.9.0.dev20220528) (5.8.0)\n",
      "Collecting google-api-python-client>=1.6.7\n",
      "  Downloading google_api_python_client-2.83.0-py2.py3-none-any.whl (11.2 MB)\n",
      "     ---------------------------------------- 11.2/11.2 MB 4.3 MB/s eta 0:00:00\n",
      "Requirement already satisfied: tensorflow-datasets in c:\\users\\realmeid\\anaconda3\\envs\\py37\\lib\\site-packages (from tf-models-nightly==2.9.0.dev20220528) (4.2.0)\n",
      "Requirement already satisfied: pandas>=0.22.0 in c:\\users\\realmeid\\anaconda3\\envs\\py37\\lib\\site-packages (from tf-models-nightly==2.9.0.dev20220528) (1.3.5)\n",
      "Collecting pyyaml<6.0,>=5.1\n",
      "  Downloading PyYAML-5.4.1-cp37-cp37m-win_amd64.whl (210 kB)\n",
      "     -------------------------------------- 210.1/210.1 kB 6.4 MB/s eta 0:00:00\n",
      "Requirement already satisfied: scipy>=0.19.1 in c:\\users\\realmeid\\anaconda3\\envs\\py37\\lib\\site-packages (from tf-models-nightly==2.9.0.dev20220528) (1.7.3)\n"
     ]
    },
    {
     "name": "stderr",
     "output_type": "stream",
     "text": [
      "ERROR: Could not find a version that satisfies the requirement tensorflow-text-nightly (from tf-models-nightly) (from versions: none)\n",
      "ERROR: No matching distribution found for tensorflow-text-nightly\n"
     ]
    }
   ],
   "source": [
    "!pip install tf-models-nightly==2.9.0.dev20220528"
   ]
  },
  {
   "cell_type": "code",
   "execution_count": null,
   "id": "36d9beab",
   "metadata": {},
   "outputs": [],
   "source": []
  }
 ],
 "metadata": {
  "kernelspec": {
   "display_name": "Python 3 (ipykernel)",
   "language": "python",
   "name": "python3"
  },
  "language_info": {
   "codemirror_mode": {
    "name": "ipython",
    "version": 3
   },
   "file_extension": ".py",
   "mimetype": "text/x-python",
   "name": "python",
   "nbconvert_exporter": "python",
   "pygments_lexer": "ipython3",
   "version": "3.7.13"
  }
 },
 "nbformat": 4,
 "nbformat_minor": 5
}
