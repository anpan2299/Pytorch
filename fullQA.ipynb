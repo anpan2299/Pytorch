{
 "cells": [
  {
   "cell_type": "markdown",
   "id": "5737443a",
   "metadata": {},
   "source": [
    "Database Creation\n"
   ]
  },
  {
   "cell_type": "code",
   "execution_count": 1,
   "id": "4546f109",
   "metadata": {},
   "outputs": [
    {
     "name": "stderr",
     "output_type": "stream",
     "text": [
      "OpenAI tiktoken module is not available for Python < 3.8,Linux ARM64 and AARCH64. Falling back to GPT2TokenizerFast.\n",
      "WARNING:haystack.nodes.answer_generator.openai:OpenAI tiktoken module is not available for Python < 3.8,Linux ARM64 and AARCH64. Falling back to GPT2TokenizerFast.\n"
     ]
    },
    {
     "data": {
      "text/plain": [
       "['From my grandfather Verus I learned good morals and the government of my temper.',\n",
       " 'From the reputation and remembrance of my father, modesty and a manly character.',\n",
       " 'From my mother, piety and beneficence, and abstinence, not only from evil deeds, but even from evil thoughts; and further, simplicity in my way of living, far removed from the habits of the rich.']"
      ]
     },
     "execution_count": 1,
     "metadata": {},
     "output_type": "execute_result"
    }
   ],
   "source": [
    "import requests\n",
    "from haystack.document_stores import ElasticsearchDocumentStore\n",
    "\n",
    "#Marcus Aurelios Meditations\n",
    "\n",
    "data = requests.get('https://raw.githubusercontent.com/jamescalam/transformers/main/data/text/meditations/clean.txt')\n",
    "text = data.text.split('\\n')\n",
    "text[:3]"
   ]
  },
  {
   "cell_type": "code",
   "execution_count": 2,
   "id": "515b2917",
   "metadata": {},
   "outputs": [
    {
     "name": "stdout",
     "output_type": "stream",
     "text": [
      "yellow open aurelius   tfrAeuIeQeWhWbhjY0GC-g 1 1    0 0  225b  225b\n",
      "yellow open squad_docs NZuejXoATIa-1XlkmoeaFA 1 1 1204 0 1.2mb 1.2mb\n",
      "yellow open label      2uS1B1YDRiWC1f6s-OsRsQ 1 1    0 0  225b  225b\n",
      "\n"
     ]
    }
   ],
   "source": [
    "requests.get('http://localhost:9200/_cluster/health').json()\n",
    "\n",
    "document_store = ElasticsearchDocumentStore(host = 'localhost', username ='elastic', password = 'Ci=SX6m=gTUlH8vDfLfa', index = 'aurelius')\n",
    "\n",
    "print(requests.get('http://localhost:9200/_cat/indices').text)"
   ]
  },
  {
   "cell_type": "code",
   "execution_count": 8,
   "id": "f89bc7c6",
   "metadata": {},
   "outputs": [
    {
     "data": {
      "text/plain": [
       "[{'content': 'From my grandfather Verus I learned good morals and the government of my temper.',\n",
       "  'meta': {'source': 'meditations'}},\n",
       " {'content': 'From the reputation and remembrance of my father, modesty and a manly character.',\n",
       "  'meta': {'source': 'meditations'}},\n",
       " {'content': 'From my mother, piety and beneficence, and abstinence, not only from evil deeds, but even from evil thoughts; and further, simplicity in my way of living, far removed from the habits of the rich.',\n",
       "  'meta': {'source': 'meditations'}}]"
      ]
     },
     "execution_count": 8,
     "metadata": {},
     "output_type": "execute_result"
    }
   ],
   "source": [
    "data_json = [\n",
    "    {\n",
    "        'content': paragraph,\n",
    "        'meta': {\n",
    "            'source': 'meditations'\n",
    "        }\n",
    "    } for paragraph in text\n",
    "]\n",
    "\n",
    "len(data_json)\n",
    "data_json[:3]"
   ]
  },
  {
   "cell_type": "code",
   "execution_count": 12,
   "id": "93fcda39",
   "metadata": {},
   "outputs": [],
   "source": [
    "res = requests.post('http://localhost:9200/aurelius/_delete_by_query',\n",
    "                   json = {'query':{'match_all':{}}})"
   ]
  },
  {
   "cell_type": "code",
   "execution_count": 13,
   "id": "e3e710df",
   "metadata": {},
   "outputs": [
    {
     "data": {
      "text/plain": [
       "{'count': 0,\n",
       " '_shards': {'total': 1, 'successful': 1, 'skipped': 0, 'failed': 0}}"
      ]
     },
     "execution_count": 13,
     "metadata": {},
     "output_type": "execute_result"
    }
   ],
   "source": [
    "res = requests.get('http://localhost:9200/aurelius/_count')\n",
    "res.json()"
   ]
  },
  {
   "cell_type": "code",
   "execution_count": 14,
   "id": "fae39290",
   "metadata": {},
   "outputs": [
    {
     "name": "stdout",
     "output_type": "stream",
     "text": [
      "b'yellow open aurelius   tfrAeuIeQeWhWbhjY0GC-g 1 1  507 2028 1.2mb 1.2mb\\nyellow open squad_docs NZuejXoATIa-1XlkmoeaFA 1 1 1204    0 1.2mb 1.2mb\\nyellow open label      2uS1B1YDRiWC1f6s-OsRsQ 1 1    0    0  225b  225b\\n'\n"
     ]
    }
   ],
   "source": [
    "document_store.write_documents(data_json)\n",
    "print(requests.get('http://localhost:9200/_cat/indices').content)"
   ]
  },
  {
   "cell_type": "markdown",
   "id": "1a6b6e17",
   "metadata": {},
   "source": [
    "Retriever and Reader Declaration\n"
   ]
  },
  {
   "cell_type": "code",
   "execution_count": 17,
   "id": "b24d8db5",
   "metadata": {},
   "outputs": [],
   "source": [
    "from haystack.nodes import BM25Retriever\n",
    "from haystack.nodes import FARMReader\n",
    "\n",
    "doc_store = ElasticsearchDocumentStore(\n",
    "    host='localhost',\n",
    "    username='', password='',\n",
    "    index='aurelius'\n",
    ")\n",
    "retriever = BM25Retriever(document_store)\n",
    "\n",
    "reader = FARMReader(model_name_or_path='deepset/bert-base-cased-squad2',\n",
    "                    context_window_size=1500,\n",
    "                    use_gpu=False)\n"
   ]
  },
  {
   "cell_type": "code",
   "execution_count": 19,
   "id": "6bb866db",
   "metadata": {},
   "outputs": [],
   "source": [
    "from haystack.pipelines import ExtractiveQAPipeline\n",
    "\n",
    "qa = ExtractiveQAPipeline(reader=reader, retriever=retriever)"
   ]
  },
  {
   "cell_type": "code",
   "execution_count": 20,
   "id": "c28acab7",
   "metadata": {},
   "outputs": [
    {
     "data": {
      "application/vnd.jupyter.widget-view+json": {
       "model_id": "6f6b30c0a36744988b426def9478941b",
       "version_major": 2,
       "version_minor": 0
      },
      "text/plain": [
       "Inferencing Samples:   0%|          | 0/1 [00:00<?, ? Batches/s]"
      ]
     },
     "metadata": {},
     "output_type": "display_data"
    },
    {
     "data": {
      "text/plain": [
       "{'query': 'What did your grandfather teach?',\n",
       " 'no_ans_gap': -3.1212611198425293,\n",
       " 'answers': [<Answer {'answer': 'good morals and the government of my temper', 'type': 'extractive', 'score': 0.16657471656799316, 'context': 'From my grandfather Verus I learned good morals and the government of my temper.', 'offsets_in_document': [{'start': 36, 'end': 79}], 'offsets_in_context': [{'start': 36, 'end': 79}], 'document_ids': ['ecc466cb76ed8dedab8752cc84e411b4'], 'meta': {'source': 'meditations'}}>,\n",
       "  <Answer {'answer': 'thy life under thy mother', 'type': 'extractive', 'score': 0.02412872575223446, 'context': 'Termination of activity, cessation from movement and opinion, and in a sense their death, is no evil. Turn thy thoughts now to the consideration of thy life, thy life as a child, as a youth, thy manhood, thy old age, for in these also every change was a death. Is this anything to fear? Turn thy thoughts now to thy life under thy grandfather, then to thy life under thy mother, then to thy life under thy father; and as thou findest many other differences and changes and terminations, ask thyself, Is this anything to fear? In like manner, then, neither are the termination and cessation and change of thy whole life a thing to be afraid of.', 'offsets_in_document': [{'start': 352, 'end': 377}], 'offsets_in_context': [{'start': 352, 'end': 377}], 'document_ids': ['c18a0187633896c0b4275e044bf742ee'], 'meta': {'source': 'meditations'}}>,\n",
       "  <Answer {'answer': 'good teachers', 'type': 'extractive', 'score': 0.011039134114980698, 'context': 'From my great-grandfather, not to have frequented public schools, and to have had good teachers at home, and to know that on such things a man should spend liberally.', 'offsets_in_document': [{'start': 82, 'end': 95}], 'offsets_in_context': [{'start': 82, 'end': 95}], 'document_ids': ['366d76bbaee1f45066c8986efe265a0b'], 'meta': {'source': 'meditations'}}>,\n",
       "  <Answer {'answer': 'self-government', 'type': 'extractive', 'score': 0.0040116086602211, 'context': 'From Maximus I learned self-government, and not to be led aside by anything; and cheerfulness in all circumstances, as well as in illness; and a just admixture in the moral character of sweetness and dignity, and to do what was set before me without complaining. I observed that everybody believed that he thought as he spoke, and that in all that he did he never had any bad intention; and he never showed amazement and surprise, and was never in a hurry, and never put off doing a thing, nor was perplexed nor dejected, nor did he ever laugh to disguise his vexation, nor, on the other hand, was he ever passionate or suspicious. He was accustomed to do acts of beneficence, and was ready to forgive, and was free from all falsehood; and he presented the appearance of a man who could not be diverted from right rather than of a man who had been improved. I observed, too, that no man could ever think that he was despised by Maximus, or ever venture to think himself a better man. He had also the art of being humorous in an agreeable way.', 'offsets_in_document': [{'start': 23, 'end': 38}], 'offsets_in_context': [{'start': 23, 'end': 38}], 'document_ids': ['798a2fd2d075fe24606a777f348aca3d'], 'meta': {'source': 'meditations'}}>,\n",
       "  <Answer {'answer': 'Teach them then or bear', 'type': 'extractive', 'score': 0.003927571699023247, 'context': 'Men exist for the sake of one another. Teach them then or bear with them.', 'offsets_in_document': [{'start': 39, 'end': 62}], 'offsets_in_context': [{'start': 39, 'end': 62}], 'document_ids': ['2150cbb98d0d573101968513d7fb4af'], 'meta': {'source': 'meditations'}}>,\n",
       "  <Answer {'answer': 'to be themselves praised by posterity, by those whom they have never seen or ever will see, this they set much value on. But this is very much the same as if thou shouldst be grieved because those who have lived before thee did not praise thee', 'type': 'extractive', 'score': 0.00030687026446685195, 'context': 'How strangely men act. They will not praise those who are living at the same time and living with themselves; but to be themselves praised by posterity, by those whom they have never seen or ever will see, this they set much value on. But this is very much the same as if thou shouldst be grieved because those who have lived before thee did not praise thee.', 'offsets_in_document': [{'start': 114, 'end': 357}], 'offsets_in_context': [{'start': 114, 'end': 357}], 'document_ids': ['3ea45896a0ea4ae48663003a48029424'], 'meta': {'source': 'meditations'}}>,\n",
       "  <Answer {'answer': 'philosophy', 'type': 'extractive', 'score': 0.0003028736973647028, 'context': 'Epicurus says, In my sickness my conversation was not about my bodily sufferings, nor, says he, did I talk on such subjects to those who visited me; but I continued to discourse on the nature of things as before, keeping to this main point, how the mind, while participating in such movements as go on in the poor flesh, shall be free from perturbations and maintain its proper good. Nor did I, he says, give the physicians an opportunity of putting on solemn looks, as if they were doing something great, but my life went on well and happily. Do, then, the same that he did both in sickness, if thou art sick, and in any other circumstances; for never to desert philosophy in any events that may befall us, nor to hold trifling talk either with an ignorant man or with one unacquainted with nature, is a principle of all schools of philosophy; but to be intent only on that which thou art now doing and on the instrument by which thou doest it.', 'offsets_in_document': [{'start': 663, 'end': 673}], 'offsets_in_context': [{'start': 663, 'end': 673}], 'document_ids': ['b88b5ac821f7c6a2ae636cce2d882f88'], 'meta': {'source': 'meditations'}}>,\n",
       "  <Answer {'answer': 'nature and profitable', 'type': 'extractive', 'score': 0.0001608638558536768, 'context': 'How cruel it is not to allow men to strive after the things which appear to them to be suitable to their nature and profitable! And yet in a manner thou dost not allow them to do this, when thou art vexed because they do wrong. For they are certainly moved towards things because they suppose them to be suitable to their nature and profitable to them.- But it is not so.- Teach them then, and show them without being angry.', 'offsets_in_document': [{'start': 105, 'end': 126}], 'offsets_in_context': [{'start': 105, 'end': 126}], 'document_ids': ['8149dd43100c073a25aeec95588ac011'], 'meta': {'source': 'meditations'}}>,\n",
       "  <Answer {'answer': 'foul smell and blood in a bag', 'type': 'extractive', 'score': 0.00011568646732484922, 'context': 'Does Panthea or Pergamus now sit by the tomb of Verus? Does Chaurias or Diotimus sit by the tomb of Hadrian? That would be ridiculous. Well, suppose they did sit there, would the dead be conscious of it? And if the dead were conscious, would they be pleased? And if they were pleased, would that make them immortal? Was it not in the order of destiny that these persons too should first become old women and old men and then die? What then would those do after these were dead? All this is foul smell and blood in a bag.', 'offsets_in_document': [{'start': 490, 'end': 519}], 'offsets_in_context': [{'start': 490, 'end': 519}], 'document_ids': ['dd42d5594f0dc8416537a3b3c1f1d61c'], 'meta': {'source': 'meditations'}}>,\n",
       "  <Answer {'answer': 'fig-tree to have juice', 'type': 'extractive', 'score': 5.674803469446488e-05, 'context': 'It is natural that these things should be done by such persons, it is a matter of necessity; and if a man will not have it so, he will not allow the fig-tree to have juice. But by all means bear this in mind, that within a very short time both thou and he will be dead; and soon not even your names will be left behind.', 'offsets_in_document': [{'start': 149, 'end': 171}], 'offsets_in_context': [{'start': 149, 'end': 171}], 'document_ids': ['c8f99a89c5399c2ad0a001747f8db0d1'], 'meta': {'source': 'meditations'}}>],\n",
       " 'documents': [<Document: {'content': 'Men exist for the sake of one another. Teach them then or bear with them.', 'content_type': 'text', 'score': 0.7381567435936656, 'meta': {'source': 'meditations'}, 'id_hash_keys': ['content'], 'embedding': None, 'id': '2150cbb98d0d573101968513d7fb4af'}>,\n",
       "  <Document: {'content': 'From my grandfather Verus I learned good morals and the government of my temper.', 'content_type': 'text', 'score': 0.7251614155473926, 'meta': {'source': 'meditations'}, 'id_hash_keys': ['content'], 'embedding': None, 'id': 'ecc466cb76ed8dedab8752cc84e411b4'}>,\n",
       "  <Document: {'content': 'From my great-grandfather, not to have frequented public schools, and to have had good teachers at home, and to know that on such things a man should spend liberally.', 'content_type': 'text', 'score': 0.7051048586863026, 'meta': {'source': 'meditations'}, 'id_hash_keys': ['content'], 'embedding': None, 'id': '366d76bbaee1f45066c8986efe265a0b'}>,\n",
       "  <Document: {'content': 'It is natural that these things should be done by such persons, it is a matter of necessity; and if a man will not have it so, he will not allow the fig-tree to have juice. But by all means bear this in mind, that within a very short time both thou and he will be dead; and soon not even your names will be left behind.', 'content_type': 'text', 'score': 0.6991783141004924, 'meta': {'source': 'meditations'}, 'id_hash_keys': ['content'], 'embedding': None, 'id': 'c8f99a89c5399c2ad0a001747f8db0d1'}>,\n",
       "  <Document: {'content': 'How cruel it is not to allow men to strive after the things which appear to them to be suitable to their nature and profitable! And yet in a manner thou dost not allow them to do this, when thou art vexed because they do wrong. For they are certainly moved towards things because they suppose them to be suitable to their nature and profitable to them.- But it is not so.- Teach them then, and show them without being angry.', 'content_type': 'text', 'score': 0.670830829823548, 'meta': {'source': 'meditations'}, 'id_hash_keys': ['content'], 'embedding': None, 'id': '8149dd43100c073a25aeec95588ac011'}>,\n",
       "  <Document: {'content': 'Epicurus says, In my sickness my conversation was not about my bodily sufferings, nor, says he, did I talk on such subjects to those who visited me; but I continued to discourse on the nature of things as before, keeping to this main point, how the mind, while participating in such movements as go on in the poor flesh, shall be free from perturbations and maintain its proper good. Nor did I, he says, give the physicians an opportunity of putting on solemn looks, as if they were doing something great, but my life went on well and happily. Do, then, the same that he did both in sickness, if thou art sick, and in any other circumstances; for never to desert philosophy in any events that may befall us, nor to hold trifling talk either with an ignorant man or with one unacquainted with nature, is a principle of all schools of philosophy; but to be intent only on that which thou art now doing and on the instrument by which thou doest it.', 'content_type': 'text', 'score': 0.6522286858308166, 'meta': {'source': 'meditations'}, 'id_hash_keys': ['content'], 'embedding': None, 'id': 'b88b5ac821f7c6a2ae636cce2d882f88'}>,\n",
       "  <Document: {'content': 'From Maximus I learned self-government, and not to be led aside by anything; and cheerfulness in all circumstances, as well as in illness; and a just admixture in the moral character of sweetness and dignity, and to do what was set before me without complaining. I observed that everybody believed that he thought as he spoke, and that in all that he did he never had any bad intention; and he never showed amazement and surprise, and was never in a hurry, and never put off doing a thing, nor was perplexed nor dejected, nor did he ever laugh to disguise his vexation, nor, on the other hand, was he ever passionate or suspicious. He was accustomed to do acts of beneficence, and was ready to forgive, and was free from all falsehood; and he presented the appearance of a man who could not be diverted from right rather than of a man who had been improved. I observed, too, that no man could ever think that he was despised by Maximus, or ever venture to think himself a better man. He had also the art of being humorous in an agreeable way.', 'content_type': 'text', 'score': 0.6435081067282462, 'meta': {'source': 'meditations'}, 'id_hash_keys': ['content'], 'embedding': None, 'id': '798a2fd2d075fe24606a777f348aca3d'}>,\n",
       "  <Document: {'content': 'Does Panthea or Pergamus now sit by the tomb of Verus? Does Chaurias or Diotimus sit by the tomb of Hadrian? That would be ridiculous. Well, suppose they did sit there, would the dead be conscious of it? And if the dead were conscious, would they be pleased? And if they were pleased, would that make them immortal? Was it not in the order of destiny that these persons too should first become old women and old men and then die? What then would those do after these were dead? All this is foul smell and blood in a bag.', 'content_type': 'text', 'score': 0.641721087987677, 'meta': {'source': 'meditations'}, 'id_hash_keys': ['content'], 'embedding': None, 'id': 'dd42d5594f0dc8416537a3b3c1f1d61c'}>,\n",
       "  <Document: {'content': 'Termination of activity, cessation from movement and opinion, and in a sense their death, is no evil. Turn thy thoughts now to the consideration of thy life, thy life as a child, as a youth, thy manhood, thy old age, for in these also every change was a death. Is this anything to fear? Turn thy thoughts now to thy life under thy grandfather, then to thy life under thy mother, then to thy life under thy father; and as thou findest many other differences and changes and terminations, ask thyself, Is this anything to fear? In like manner, then, neither are the termination and cessation and change of thy whole life a thing to be afraid of.', 'content_type': 'text', 'score': 0.6395517944812115, 'meta': {'source': 'meditations'}, 'id_hash_keys': ['content'], 'embedding': None, 'id': 'c18a0187633896c0b4275e044bf742ee'}>,\n",
       "  <Document: {'content': 'How strangely men act. They will not praise those who are living at the same time and living with themselves; but to be themselves praised by posterity, by those whom they have never seen or ever will see, this they set much value on. But this is very much the same as if thou shouldst be grieved because those who have lived before thee did not praise thee.', 'content_type': 'text', 'score': 0.6288201337238312, 'meta': {'source': 'meditations'}, 'id_hash_keys': ['content'], 'embedding': None, 'id': '3ea45896a0ea4ae48663003a48029424'}>],\n",
       " 'root_node': 'Query',\n",
       " 'params': {},\n",
       " 'node_id': 'Reader'}"
      ]
     },
     "execution_count": 20,
     "metadata": {},
     "output_type": "execute_result"
    }
   ],
   "source": [
    "qa.run(query='What did your grandfather teach?')"
   ]
  },
  {
   "cell_type": "code",
   "execution_count": null,
   "id": "835b6d46",
   "metadata": {},
   "outputs": [],
   "source": []
  }
 ],
 "metadata": {
  "kernelspec": {
   "display_name": "Python 3 (ipykernel)",
   "language": "python",
   "name": "python3"
  },
  "language_info": {
   "codemirror_mode": {
    "name": "ipython",
    "version": 3
   },
   "file_extension": ".py",
   "mimetype": "text/x-python",
   "name": "python",
   "nbconvert_exporter": "python",
   "pygments_lexer": "ipython3",
   "version": "3.7.13"
  }
 },
 "nbformat": 4,
 "nbformat_minor": 5
}
