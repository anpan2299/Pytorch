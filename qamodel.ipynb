{
 "cells": [
  {
   "cell_type": "code",
   "execution_count": 5,
   "id": "e5c4afbe",
   "metadata": {},
   "outputs": [],
   "source": [
    "import json\n",
    "from transformers import BertTokenizer, BertForQuestionAnswering\n",
    "\n",
    "\n",
    "with open('./data/squad/dev.json', 'r') as f:\n",
    "    squad = json.load(f)\n",
    "    \n",
    "modelname = 'deepset/bert-base-cased-squad2'\n",
    "\n",
    "tokenizer = BertTokenizer.from_pretrained(modelname)\n",
    "model = BertForQuestionAnswering.from_pretrained(modelname)"
   ]
  },
  {
   "cell_type": "code",
   "execution_count": 6,
   "id": "4cf2901f",
   "metadata": {},
   "outputs": [
    {
     "data": {
      "text/plain": [
       "{'question': 'In what country is Normandy located?',\n",
       " 'answer': 'France',\n",
       " 'context': 'The Normans (Norman: Nourmands; French: Normands; Latin: Normanni) were the people who in the 10th and 11th centuries gave their name to Normandy, a region in France. They were descended from Norse (\"Norman\" comes from \"Norseman\") raiders and pirates from Denmark, Iceland and Norway who, under their leader Rollo, agreed to swear fealty to King Charles III of West Francia. Through generations of assimilation and mixing with the native Frankish and Roman-Gaulish populations, their descendants would gradually merge with the Carolingian-based cultures of West Francia. The distinct cultural and ethnic identity of the Normans emerged initially in the first half of the 10th century, and it continued to evolve over the succeeding centuries.'}"
      ]
     },
     "execution_count": 6,
     "metadata": {},
     "output_type": "execute_result"
    }
   ],
   "source": [
    "from transformers import pipeline\n",
    "\n",
    "qa = pipeline('question-answering', model = model, tokenizer = tokenizer)#pipeline for answering questions, there are others for sentiment analysis and etc\n",
    "\n",
    "squad[0]"
   ]
  },
  {
   "cell_type": "code",
   "execution_count": 7,
   "id": "12dc2e8f",
   "metadata": {},
   "outputs": [
    {
     "data": {
      "text/plain": [
       "{'score': 0.9995271563529968, 'start': 159, 'end': 166, 'answer': 'France.'}"
      ]
     },
     "execution_count": 7,
     "metadata": {},
     "output_type": "execute_result"
    }
   ],
   "source": [
    "qa({'question': squad[0]['question'], 'context': squad[0]['context']})"
   ]
  },
  {
   "cell_type": "code",
   "execution_count": 7,
   "id": "c7bf9106",
   "metadata": {},
   "outputs": [],
   "source": [
    "from rouge import Rouge\n",
    "from tqdm import tqdm"
   ]
  },
  {
   "cell_type": "code",
   "execution_count": null,
   "id": "e3f29e06",
   "metadata": {},
   "outputs": [
    {
     "name": "stderr",
     "output_type": "stream",
     "text": [
      " 43%|██████████████████████████████▎                                        | 5071/11873 [28:20:23<42:55:00, 22.71s/it]"
     ]
    }
   ],
   "source": [
    "rouge = Rouge\n",
    "\n",
    "model_out = []\n",
    "reference = []\n",
    "for pair in tqdm(squad, leave = True):\n",
    "    ans = qa({'question': pair['question'], 'context': pair['context']})\n",
    "    model_out.append(ans['answer'])\n",
    "    reference.append(pair['answer'])"
   ]
  },
  {
   "cell_type": "code",
   "execution_count": null,
   "id": "9d1de7a8",
   "metadata": {},
   "outputs": [],
   "source": [
    "import re\n",
    "\n",
    "clean = re.compile('(?i)[^0-9a-z]')\n",
    "model_out = [clean.sub('',text) for text in model_out]\n",
    "reference = [clean.sub('',text) for text in reference]"
   ]
  }
 ],
 "metadata": {
  "kernelspec": {
   "display_name": "Python 3 (ipykernel)",
   "language": "python",
   "name": "python3"
  },
  "language_info": {
   "codemirror_mode": {
    "name": "ipython",
    "version": 3
   },
   "file_extension": ".py",
   "mimetype": "text/x-python",
   "name": "python",
   "nbconvert_exporter": "python",
   "pygments_lexer": "ipython3",
   "version": "3.7.13"
  }
 },
 "nbformat": 4,
 "nbformat_minor": 5
}
