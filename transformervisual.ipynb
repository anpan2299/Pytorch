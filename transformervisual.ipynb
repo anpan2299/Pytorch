{
 "cells": [
  {
   "cell_type": "code",
   "execution_count": 1,
   "id": "0b1800a7",
   "metadata": {},
   "outputs": [],
   "source": [
    "import torch\n",
    "import torch.nn as nn"
   ]
  },
  {
   "cell_type": "code",
   "execution_count": 2,
   "id": "adcd1b3e",
   "metadata": {},
   "outputs": [],
   "source": [
    "image_size = 384*384\n",
    "patch_size = 16*16\n",
    "num_words = image_size//patch_size"
   ]
  },
  {
   "cell_type": "code",
   "execution_count": 3,
   "id": "d4eb2c4d",
   "metadata": {},
   "outputs": [],
   "source": [
    "patch_embed = nn.Conv2d(3, 768, kernel_size = (16,16),stride=(16,16))"
   ]
  },
  {
   "cell_type": "code",
   "execution_count": 5,
   "id": "f380a256",
   "metadata": {},
   "outputs": [
    {
     "data": {
      "text/plain": [
       "torch.Size([1, 768, 24, 24])"
      ]
     },
     "execution_count": 5,
     "metadata": {},
     "output_type": "execute_result"
    }
   ],
   "source": [
    "random_image = torch.randn(1,3,384,384)\n",
    "\n",
    "output = patch_embed(random_image)\n",
    "output.shape"
   ]
  },
  {
   "cell_type": "code",
   "execution_count": null,
   "id": "1f2a4493",
   "metadata": {},
   "outputs": [],
   "source": [
    "#output.view(1,768,-1)\n",
    "output = output.flatten(2).transpose(1,2)\n",
    "#this is the input for the transformers"
   ]
  }
 ],
 "metadata": {
  "kernelspec": {
   "display_name": "Python 3 (ipykernel)",
   "language": "python",
   "name": "python3"
  },
  "language_info": {
   "codemirror_mode": {
    "name": "ipython",
    "version": 3
   },
   "file_extension": ".py",
   "mimetype": "text/x-python",
   "name": "python",
   "nbconvert_exporter": "python",
   "pygments_lexer": "ipython3",
   "version": "3.7.13"
  }
 },
 "nbformat": 4,
 "nbformat_minor": 5
}
