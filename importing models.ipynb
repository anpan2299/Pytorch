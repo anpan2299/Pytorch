{
 "cells": [
  {
   "cell_type": "code",
   "execution_count": 1,
   "id": "6d323310",
   "metadata": {},
   "outputs": [],
   "source": [
    "import json\n",
    "import sys\n",
    "from pathlib import Path\n",
    "\n",
    "from IPython.display import Markdown, display\n",
    "from openvino.runtime import Core\n",
    "\n",
    "sys.path.append(\"../utils\")\n",
    "#from notebook_utils import DeviceNotFoundAlert, NotebookAlert"
   ]
  },
  {
   "cell_type": "code",
   "execution_count": 2,
   "id": "4129b609",
   "metadata": {},
   "outputs": [
    {
     "name": "stdout",
     "output_type": "stream",
     "text": [
      "base_model_dir: C:\\Users\\realmeid\\open_model_zoo_models, omz_cache_dir: C:\\Users\\realmeid\\open_model_zoo_cache, gpu_availble: True\n",
      "list of available devices: ['CPU', 'GPU']\n"
     ]
    }
   ],
   "source": [
    "base_model_dir = Path(\"~/open_model_zoo_models\").expanduser()\n",
    "omz_cache_dir = Path(\"~/open_model_zoo_cache\").expanduser()\n",
    "\n",
    "ie = Core()\n",
    "gpu_available = \"GPU\" in ie.available_devices\n",
    "\n",
    "print(\n",
    "    f\"base_model_dir: {base_model_dir}, omz_cache_dir: {omz_cache_dir}, gpu_availble: {gpu_available}\"\n",
    ")\n",
    "print(f\"list of available devices: {ie.available_devices}\")"
   ]
  },
  {
   "cell_type": "code",
   "execution_count": 6,
   "id": "589530cf",
   "metadata": {},
   "outputs": [
    {
     "data": {
      "text/markdown": [
       "Download command: `omz_downloader --name mobilenet-v2-pytorch --output_dir C:\\Users\\realmeid\\open_model_zoo_models --cache_dir C:\\Users\\realmeid\\open_model_zoo_cache`"
      ],
      "text/plain": [
       "<IPython.core.display.Markdown object>"
      ]
     },
     "metadata": {},
     "output_type": "display_data"
    },
    {
     "data": {
      "text/markdown": [
       "Downloading mobilenet-v2-pytorch..."
      ],
      "text/plain": [
       "<IPython.core.display.Markdown object>"
      ]
     },
     "metadata": {},
     "output_type": "display_data"
    },
    {
     "name": "stdout",
     "output_type": "stream",
     "text": [
      "################|| Downloading mobilenet-v2-pytorch ||################\n",
      "\n",
      "========== Downloading C:\\Users\\realmeid\\open_model_zoo_models\\public\\mobilenet-v2-pytorch\\mobilenet_v2-b0353104.pth\n",
      "... 7%, 1024 KB, 923 KB/s, 1 seconds passed\n",
      "... 14%, 2048 KB, 1395 KB/s, 1 seconds passed\n",
      "... 22%, 3072 KB, 1680 KB/s, 1 seconds passed\n",
      "... 29%, 4096 KB, 1638 KB/s, 2 seconds passed\n",
      "... 36%, 5120 KB, 1715 KB/s, 2 seconds passed\n",
      "... 44%, 6144 KB, 1890 KB/s, 3 seconds passed\n",
      "... 51%, 7168 KB, 2039 KB/s, 3 seconds passed\n",
      "... 59%, 8192 KB, 2157 KB/s, 3 seconds passed\n",
      "... 66%, 9216 KB, 2259 KB/s, 4 seconds passed\n",
      "... 73%, 10240 KB, 2349 KB/s, 4 seconds passed\n",
      "... 81%, 11264 KB, 2443 KB/s, 4 seconds passed\n",
      "... 88%, 12288 KB, 2504 KB/s, 4 seconds passed\n",
      "... 95%, 13312 KB, 2597 KB/s, 5 seconds passed\n",
      "... 100%, 13879 KB, 2659 KB/s, 5 seconds passed\n",
      "\n"
     ]
    }
   ],
   "source": [
    "model_name = \"mobilenet-v2-pytorch\"\n",
    "\n",
    "download_command = (\n",
    "    f\"omz_downloader --name {model_name} --output_dir {base_model_dir} --cache_dir {omz_cache_dir}\"\n",
    ")\n",
    "display(Markdown(f\"Download command: `{download_command}`\"))\n",
    "display(Markdown(f\"Downloading {model_name}...\"))\n",
    "! $download_command"
   ]
  },
  {
   "cell_type": "code",
   "execution_count": 7,
   "id": "a9794a1d",
   "metadata": {},
   "outputs": [
    {
     "data": {
      "text/markdown": [
       "Convert command: `omz_converter --name mobilenet-v2-pytorch --download_dir C:\\Users\\realmeid\\open_model_zoo_models --output_dir C:\\Users\\realmeid\\open_model_zoo_models`"
      ],
      "text/plain": [
       "<IPython.core.display.Markdown object>"
      ]
     },
     "metadata": {},
     "output_type": "display_data"
    },
    {
     "data": {
      "text/markdown": [
       "Converting mobilenet-v2-pytorch..."
      ],
      "text/plain": [
       "<IPython.core.display.Markdown object>"
      ]
     },
     "metadata": {},
     "output_type": "display_data"
    },
    {
     "name": "stdout",
     "output_type": "stream",
     "text": [
      "========== Converting mobilenet-v2-pytorch to ONNX\n",
      "Conversion to ONNX command: C:\\Users\\realmeid\\Anaconda3\\envs\\py37\\python.exe -- C:\\Users\\realmeid\\Anaconda3\\envs\\py37\\lib\\site-packages\\openvino\\model_zoo\\internal_scripts\\pytorch_to_onnx.py --model-name=mobilenet_v2 --weights=C:\\Users\\realmeid\\open_model_zoo_models\\public\\mobilenet-v2-pytorch/mobilenet_v2-b0353104.pth --import-module=torchvision.models --input-shape=1,3,224,224 --output-file=C:\\Users\\realmeid\\open_model_zoo_models\\public\\mobilenet-v2-pytorch/mobilenet-v2.onnx --input-names=data --output-names=prob\n",
      "\n",
      "\n",
      "FAILED:\n",
      "mobilenet-v2-pytorch\n"
     ]
    },
    {
     "name": "stderr",
     "output_type": "stream",
     "text": [
      "Traceback (most recent call last):\n",
      "  File \"C:\\Users\\realmeid\\Anaconda3\\envs\\py37\\lib\\site-packages\\openvino\\model_zoo\\internal_scripts\\pytorch_to_onnx.py\", line 24, in <module>\n",
      "    import onnx\n",
      "ModuleNotFoundError: No module named 'onnx'\n"
     ]
    }
   ],
   "source": [
    "convert_command = f\"omz_converter --name {model_name} --download_dir {base_model_dir} --output_dir {base_model_dir}\"\n",
    "display(Markdown(f\"Convert command: `{convert_command}`\"))\n",
    "display(Markdown(f\"Converting {model_name}...\"))\n",
    "\n",
    "! $convert_command"
   ]
  },
  {
   "cell_type": "code",
   "execution_count": null,
   "id": "0d951256",
   "metadata": {},
   "outputs": [],
   "source": []
  }
 ],
 "metadata": {
  "kernelspec": {
   "display_name": "Python 3 (ipykernel)",
   "language": "python",
   "name": "python3"
  },
  "language_info": {
   "codemirror_mode": {
    "name": "ipython",
    "version": 3
   },
   "file_extension": ".py",
   "mimetype": "text/x-python",
   "name": "python",
   "nbconvert_exporter": "python",
   "pygments_lexer": "ipython3",
   "version": "3.7.13"
  }
 },
 "nbformat": 4,
 "nbformat_minor": 5
}
